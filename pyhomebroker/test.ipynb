{
 "cells": [
  {
   "cell_type": "code",
   "execution_count": 1,
   "source": [
    "\n",
    "import datetime\n",
    "from pyhomebroker.home_broker import HomeBroker\n",
    "\n",
    "broker = '12'\n",
    "dni = '41562055'\n",
    "user = 'bautistab'\n",
    "password = 'YXJ8hfe3xzg3nbq.bru'\n",
    "\n",
    "hb = HomeBroker(int(broker))\n",
    "\n",
    "async def get_data():\n",
    "    await hb.auth.login(dni=dni, user=user, password=password, raise_exception=True)\n",
    "\n",
    "    data = await hb.history.get_intraday_history('GGAL')\n",
    "    return data\n",
    "\n",
    "print(await get_data())"
   ],
   "outputs": [
    {
     "output_type": "stream",
     "name": "stdout",
     "text": [
      "                    date   open   high     low   close    volume\n",
      "0    2021-10-05 11:01:04  198.8  198.8  198.80  197.50     18886\n",
      "1    2021-10-05 11:02:08  198.8  198.8  197.50  197.50     15010\n",
      "2    2021-10-05 11:02:16  198.8  198.8  197.50  197.35         0\n",
      "3    2021-10-05 11:02:22  198.8  198.8  197.35  198.60     73612\n",
      "4    2021-10-05 11:02:25  198.8  198.8  197.35  197.35       993\n",
      "...                  ...    ...    ...     ...     ...       ...\n",
      "1041 2021-10-05 16:59:04  198.8  199.2  195.05  195.50       196\n",
      "1042 2021-10-05 16:59:16  198.8  199.2  195.05  195.25       195\n",
      "1043 2021-10-05 16:59:33  198.8  199.2  195.05  195.50       195\n",
      "1044 2021-10-05 16:59:54  198.8  199.2  195.05  196.00  11486603\n",
      "1045 2021-10-05 16:59:58  198.8  199.2  195.05  195.50      1962\n",
      "\n",
      "[1046 rows x 6 columns]\n"
     ]
    }
   ],
   "metadata": {}
  }
 ],
 "metadata": {
  "orig_nbformat": 4,
  "language_info": {
   "name": "python",
   "version": "3.9.7",
   "mimetype": "text/x-python",
   "codemirror_mode": {
    "name": "ipython",
    "version": 3
   },
   "pygments_lexer": "ipython3",
   "nbconvert_exporter": "python",
   "file_extension": ".py"
  },
  "kernelspec": {
   "name": "python3",
   "display_name": "Python 3.9.7 64-bit"
  },
  "interpreter": {
   "hash": "aee8b7b246df8f9039afb4144a1f6fd8d2ca17a180786b69acc140d282b71a49"
  }
 },
 "nbformat": 4,
 "nbformat_minor": 2
}